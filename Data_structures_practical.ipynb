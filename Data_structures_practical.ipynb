{
  "nbformat": 4,
  "nbformat_minor": 0,
  "metadata": {
    "colab": {
      "provenance": []
    },
    "kernelspec": {
      "name": "python3",
      "display_name": "Python 3"
    },
    "language_info": {
      "name": "python"
    }
  },
  "cells": [
    {
      "cell_type": "markdown",
      "source": [
        "#1.write a code to a string with your name and print it."
      ],
      "metadata": {
        "id": "APyJyZv2Bjn4"
      }
    },
    {
      "cell_type": "code",
      "source": [
        "Name = \"Deep\"\n",
        "print(Name)"
      ],
      "metadata": {
        "colab": {
          "base_uri": "https://localhost:8080/"
        },
        "id": "4FwGQAwCPlug",
        "outputId": "a3d7b8f8-90de-4a0c-eaed-01fd2cc28e88"
      },
      "execution_count": null,
      "outputs": [
        {
          "output_type": "stream",
          "name": "stdout",
          "text": [
            "Deep\n"
          ]
        }
      ]
    },
    {
      "cell_type": "markdown",
      "source": [
        "#2. write a code to find the length of the string \"Hello World\"."
      ],
      "metadata": {
        "id": "8Ga9AlX3CWBc"
      }
    },
    {
      "cell_type": "code",
      "source": [
        "len(\"Hello World\")"
      ],
      "metadata": {
        "colab": {
          "base_uri": "https://localhost:8080/"
        },
        "id": "E-IPlG0OC58a",
        "outputId": "026d80f7-6054-43de-c8d0-2768ef8e001e"
      },
      "execution_count": null,
      "outputs": [
        {
          "output_type": "execute_result",
          "data": {
            "text/plain": [
              "11"
            ]
          },
          "metadata": {},
          "execution_count": 1
        }
      ]
    },
    {
      "cell_type": "markdown",
      "source": [
        "#3. write a code to slice the frist 3 characters from the string \"python programming\"."
      ],
      "metadata": {
        "id": "Qz2inL20DVTA"
      }
    },
    {
      "cell_type": "code",
      "source": [
        "string=\"python programming\"\n",
        "slice=string[:3]\n",
        "print(slice)"
      ],
      "metadata": {
        "colab": {
          "base_uri": "https://localhost:8080/"
        },
        "id": "7CQm5uKzLbfA",
        "outputId": "f8f92685-5ad3-4b83-e6ee-9441eb3a8469"
      },
      "execution_count": null,
      "outputs": [
        {
          "output_type": "stream",
          "name": "stdout",
          "text": [
            "pyt\n"
          ]
        }
      ]
    },
    {
      "cell_type": "markdown",
      "source": [
        "#4.write a code to convert the string \"hello\" to uppercase.\n"
      ],
      "metadata": {
        "id": "8NVoeM8zKXXR"
      }
    },
    {
      "cell_type": "code",
      "source": [
        "string = (\"hello\")\n",
        "uppercase_string = string.upper()\n",
        "print(uppercase_string)"
      ],
      "metadata": {
        "id": "Dbm1PN2XMqhT",
        "colab": {
          "base_uri": "https://localhost:8080/"
        },
        "outputId": "8df765ea-6245-49db-dc21-2f5b8aec93c7"
      },
      "execution_count": 1,
      "outputs": [
        {
          "output_type": "stream",
          "name": "stdout",
          "text": [
            "HELLO\n"
          ]
        }
      ]
    },
    {
      "cell_type": "markdown",
      "source": [
        "#5.write a code to replace the word \"apple\" with \"orange\" in the string \"i like apple\"."
      ],
      "metadata": {
        "id": "yUA1xCXR5AlH"
      }
    },
    {
      "cell_type": "code",
      "source": [
        "string = \"i like apple\"\n",
        "new_string = string.replace(\"apple\", \"orange\")\n",
        "print(new_string)"
      ],
      "metadata": {
        "colab": {
          "base_uri": "https://localhost:8080/"
        },
        "id": "zqyOsah84qn7",
        "outputId": "0c64a5aa-0da6-4256-a31a-84b831904df5"
      },
      "execution_count": 2,
      "outputs": [
        {
          "output_type": "stream",
          "name": "stdout",
          "text": [
            "i like orange\n"
          ]
        }
      ]
    },
    {
      "cell_type": "markdown",
      "source": [
        "#6.write a code to create a list with number 1 to 5 and print it."
      ],
      "metadata": {
        "id": "J5KKrP3M6HVd"
      }
    },
    {
      "cell_type": "code",
      "source": [
        "number = [1,2,3,4,5]\n",
        "print(number)"
      ],
      "metadata": {
        "colab": {
          "base_uri": "https://localhost:8080/"
        },
        "id": "d3vFJrsS6Dec",
        "outputId": "11595de4-99fb-437f-fcb0-9d993b52060c"
      },
      "execution_count": 3,
      "outputs": [
        {
          "output_type": "stream",
          "name": "stdout",
          "text": [
            "[1, 2, 3, 4, 5]\n"
          ]
        }
      ]
    },
    {
      "cell_type": "markdown",
      "source": [
        "#7. write a code to append the number 10 to the list[1,2,3,4]."
      ],
      "metadata": {
        "id": "PBaFoYKs695s"
      }
    },
    {
      "cell_type": "code",
      "source": [
        "number = [1,2,3,4]\n",
        "number.append(10)\n",
        "print(number)"
      ],
      "metadata": {
        "colab": {
          "base_uri": "https://localhost:8080/"
        },
        "id": "GSQH7_4R6rIP",
        "outputId": "83cd8206-c01f-4245-cbaa-40b547bade6a"
      },
      "execution_count": 5,
      "outputs": [
        {
          "output_type": "stream",
          "name": "stdout",
          "text": [
            "[1, 2, 3, 4, 10]\n"
          ]
        }
      ]
    },
    {
      "cell_type": "markdown",
      "source": [
        "#8.write a code to remove the number 3 from the list [1,2,3,4,5]"
      ],
      "metadata": {
        "id": "WewZNi0u7mJH"
      }
    },
    {
      "cell_type": "code",
      "source": [
        "number = [1,2,3,4,5]\n",
        "number.remove(3)\n",
        "print(number)"
      ],
      "metadata": {
        "colab": {
          "base_uri": "https://localhost:8080/"
        },
        "id": "1UOCI3ss7eel",
        "outputId": "e1cd7d98-3269-4fdd-8a44-71da29ab73dd"
      },
      "execution_count": 6,
      "outputs": [
        {
          "output_type": "stream",
          "name": "stdout",
          "text": [
            "[1, 2, 4, 5]\n"
          ]
        }
      ]
    },
    {
      "cell_type": "markdown",
      "source": [
        "#9. write a code to access the second element in the list ['a','b','c','d']"
      ],
      "metadata": {
        "id": "7OhHY6ud8LjA"
      }
    },
    {
      "cell_type": "code",
      "source": [
        "mylist = ['a','b','c','d']\n",
        "print(mylist[1])"
      ],
      "metadata": {
        "colab": {
          "base_uri": "https://localhost:8080/"
        },
        "id": "QRALX8-n8JBP",
        "outputId": "6eff207a-537d-41ab-d6e8-26c24543da37"
      },
      "execution_count": 7,
      "outputs": [
        {
          "output_type": "stream",
          "name": "stdout",
          "text": [
            "b\n"
          ]
        }
      ]
    },
    {
      "cell_type": "markdown",
      "source": [
        "#10.write a code to reverse the list [10,20,30,40,50]"
      ],
      "metadata": {
        "id": "5ECEJ-BI9LcK"
      }
    },
    {
      "cell_type": "code",
      "source": [
        "mylist = [10,20,30,40,50]\n",
        "mylist.reverse()\n",
        "print(mylist)"
      ],
      "metadata": {
        "colab": {
          "base_uri": "https://localhost:8080/"
        },
        "id": "KMZOPo8y9F6X",
        "outputId": "6bf66079-105f-45aa-b6b2-6a9223c42d07"
      },
      "execution_count": 13,
      "outputs": [
        {
          "output_type": "stream",
          "name": "stdout",
          "text": [
            "[50, 40, 30, 20, 10]\n"
          ]
        }
      ]
    },
    {
      "cell_type": "markdown",
      "source": [
        "#11. write a code to creat a tuple with the elements 100,200,300 and print it."
      ],
      "metadata": {
        "id": "oT1JXuc6-mjt"
      }
    },
    {
      "cell_type": "code",
      "source": [
        "mytuple = (100,200,300)\n",
        "print(mytuple)"
      ],
      "metadata": {
        "colab": {
          "base_uri": "https://localhost:8080/"
        },
        "id": "wtIjc34N9vlw",
        "outputId": "76fc552a-d709-477b-db36-e7b548786756"
      },
      "execution_count": 16,
      "outputs": [
        {
          "output_type": "stream",
          "name": "stdout",
          "text": [
            "(100, 200, 300)\n"
          ]
        }
      ]
    },
    {
      "cell_type": "markdown",
      "source": [
        "#12.write a code to access the second-to-last element of the tuple('red','green','blue','yellow')"
      ],
      "metadata": {
        "id": "7eKdvFJy_QUu"
      }
    },
    {
      "cell_type": "code",
      "source": [
        "mytuple = ('red','green','blue','yellow')\n",
        "print(mytuple[1:4])"
      ],
      "metadata": {
        "colab": {
          "base_uri": "https://localhost:8080/"
        },
        "id": "0AtQiCCJ--8Z",
        "outputId": "5f077dbe-2ec5-413d-e49c-45463a8a26f1"
      },
      "execution_count": 19,
      "outputs": [
        {
          "output_type": "stream",
          "name": "stdout",
          "text": [
            "('green', 'blue', 'yellow')\n"
          ]
        }
      ]
    },
    {
      "cell_type": "markdown",
      "source": [
        "#13.write a code to find the minimum number in the tuple(10,20,5,15)"
      ],
      "metadata": {
        "id": "71CsduftAtQD"
      }
    },
    {
      "cell_type": "code",
      "source": [
        "mytuple = (10,20,5,15)\n",
        "print(min(mytuple))"
      ],
      "metadata": {
        "id": "cxf5ILWIAZTl",
        "outputId": "46f28a2d-72c1-46f0-a8a4-0de2466bf33e",
        "colab": {
          "base_uri": "https://localhost:8080/"
        }
      },
      "execution_count": 20,
      "outputs": [
        {
          "output_type": "stream",
          "name": "stdout",
          "text": [
            "5\n"
          ]
        }
      ]
    },
    {
      "cell_type": "markdown",
      "source": [
        "#14.write a code to find the indexof the element\"cat\" in the tuple('dog','cat','rabbit')  "
      ],
      "metadata": {
        "id": "-JTYYm7nBMi8"
      }
    },
    {
      "cell_type": "code",
      "source": [
        "mytuple = ('dog','cat','rabbit')\n",
        "find = mytuple.index('cat')\n",
        "print(find)"
      ],
      "metadata": {
        "id": "Vzr13rOcBH4m",
        "outputId": "e3779bbb-7cc5-4f5f-a792-47102a4f0d7b",
        "colab": {
          "base_uri": "https://localhost:8080/"
        }
      },
      "execution_count": 21,
      "outputs": [
        {
          "output_type": "stream",
          "name": "stdout",
          "text": [
            "1\n"
          ]
        }
      ]
    },
    {
      "cell_type": "markdown",
      "source": [
        "#15.write a code to create a tuple containing three different fruits and check if \"kiwi\"is in it."
      ],
      "metadata": {
        "id": "cQSTrK9iCR3e"
      }
    },
    {
      "cell_type": "code",
      "source": [
        "mytuple = ('apple','banana','orange')\n",
        "find = 'kiwi' in mytuple\n",
        "print(find)"
      ],
      "metadata": {
        "id": "3AlbhoNDCE3n",
        "outputId": "266a293a-8237-494c-af54-f5d6ea408d53",
        "colab": {
          "base_uri": "https://localhost:8080/"
        }
      },
      "execution_count": 22,
      "outputs": [
        {
          "output_type": "stream",
          "name": "stdout",
          "text": [
            "False\n"
          ]
        }
      ]
    },
    {
      "cell_type": "markdown",
      "source": [
        "#16.write a code to create a set with the elements 'a','b','c', and print it."
      ],
      "metadata": {
        "id": "pcmNmkOWC5Jt"
      }
    },
    {
      "cell_type": "code",
      "source": [
        "set = {'a','b','c'}\n",
        "print(set)"
      ],
      "metadata": {
        "id": "evy4CV1OCv-X",
        "outputId": "c18ddb96-6e6c-4a07-b1a3-7d53fd629c5c",
        "colab": {
          "base_uri": "https://localhost:8080/"
        }
      },
      "execution_count": 23,
      "outputs": [
        {
          "output_type": "stream",
          "name": "stdout",
          "text": [
            "{'a', 'b', 'c'}\n"
          ]
        }
      ]
    },
    {
      "cell_type": "markdown",
      "source": [
        "#17.write a code to clear all elements from the set {1,2,3,4,5}."
      ],
      "metadata": {
        "id": "NBt0zaT4DPk6"
      }
    },
    {
      "cell_type": "code",
      "source": [
        "set = {1,2,3,4,5}\n",
        "set.clear()\n",
        "print(set)"
      ],
      "metadata": {
        "id": "EyUw9qz7DNVm",
        "outputId": "daf10f12-f2a5-4372-eaf2-e7f1054a7b0b",
        "colab": {
          "base_uri": "https://localhost:8080/"
        }
      },
      "execution_count": 24,
      "outputs": [
        {
          "output_type": "stream",
          "name": "stdout",
          "text": [
            "set()\n"
          ]
        }
      ]
    },
    {
      "cell_type": "markdown",
      "source": [
        "#18.write a code to remove the element 4 from the set{1,2,3,4,}."
      ],
      "metadata": {
        "id": "T94aW3VhDq_k"
      }
    },
    {
      "cell_type": "code",
      "source": [
        "set = {1,2,3,4}\n",
        "set.remove(4)\n",
        "print(set)"
      ],
      "metadata": {
        "id": "tL2EjtUTDory",
        "outputId": "8750405e-3759-49b4-90d8-6eaefd77e7a4",
        "colab": {
          "base_uri": "https://localhost:8080/"
        }
      },
      "execution_count": 25,
      "outputs": [
        {
          "output_type": "stream",
          "name": "stdout",
          "text": [
            "{1, 2, 3}\n"
          ]
        }
      ]
    },
    {
      "cell_type": "markdown",
      "source": [
        "#19.write a code to find the union od two sets{1,2,3}and{3,4,5}."
      ],
      "metadata": {
        "id": "qLrlIzevEEKh"
      }
    },
    {
      "cell_type": "code",
      "source": [
        "set1 = {1,2,3}\n",
        "set2 = {3,4,5}\n",
        "union = set1.union(set2)\n",
        "print(union)"
      ],
      "metadata": {
        "id": "gHYJk8CwECJ0",
        "outputId": "b9215a2f-c625-4dc8-e81d-ad24f46105bd",
        "colab": {
          "base_uri": "https://localhost:8080/"
        }
      },
      "execution_count": 26,
      "outputs": [
        {
          "output_type": "stream",
          "name": "stdout",
          "text": [
            "{1, 2, 3, 4, 5}\n"
          ]
        }
      ]
    },
    {
      "cell_type": "markdown",
      "source": [
        "#20.write a code to find the intersection of two sets{1,2,3}and{2,3,4}."
      ],
      "metadata": {
        "id": "KaE8PLFfExSB"
      }
    },
    {
      "cell_type": "code",
      "source": [
        "set1 = {1,2,3}\n",
        "set2 = {2,3,4}\n",
        "intersection = set1.intersection(set2)\n",
        "print(intersection)"
      ],
      "metadata": {
        "id": "FCytQx-8EqhW",
        "outputId": "8bf3e5c8-8a43-4324-85af-14e2bd052763",
        "colab": {
          "base_uri": "https://localhost:8080/"
        }
      },
      "execution_count": 27,
      "outputs": [
        {
          "output_type": "stream",
          "name": "stdout",
          "text": [
            "{2, 3}\n"
          ]
        }
      ]
    },
    {
      "cell_type": "markdown",
      "source": [
        "#21.write a code to create a dictionary with the key \"name\",\"age\",\"city\",and print it."
      ],
      "metadata": {
        "id": "TId-KU20Fr8B"
      }
    },
    {
      "cell_type": "code",
      "source": [
        "mydict = {\"name\":\"Deep\",\"age\":20,\"city\":\"Dhanbad\"}\n",
        "print(mydict)"
      ],
      "metadata": {
        "id": "diEFlkCEFjqQ",
        "outputId": "9df3f454-5a35-4e76-db32-ba9af4f01099",
        "colab": {
          "base_uri": "https://localhost:8080/"
        }
      },
      "execution_count": 28,
      "outputs": [
        {
          "output_type": "stream",
          "name": "stdout",
          "text": [
            "{'name': 'Deep', 'age': 20, 'city': 'Dhanbad'}\n"
          ]
        }
      ]
    },
    {
      "cell_type": "markdown",
      "source": [
        "22.write a code to add a new key-value pair \"country\":\"USA\" to the dictionary {'name':'Alice','age':30}."
      ],
      "metadata": {
        "id": "9pQrrgmfGQbJ"
      }
    },
    {
      "cell_type": "code",
      "source": [
        "mydict = {'name':'john','age':25}\n",
        "mydict['country'] = 'USA'\n",
        "print(mydict)"
      ],
      "metadata": {
        "id": "zTOTozlbGL13",
        "outputId": "3f67f171-de3b-4954-b9a0-d9284af31e2c",
        "colab": {
          "base_uri": "https://localhost:8080/"
        }
      },
      "execution_count": 30,
      "outputs": [
        {
          "output_type": "stream",
          "name": "stdout",
          "text": [
            "{'name': 'john', 'age': 25, 'country': 'USA'}\n"
          ]
        }
      ]
    },
    {
      "cell_type": "markdown",
      "source": [
        "#23.write a code to access the value associated with the key \"name\" in the dictionary {'name':alice,'age':30}."
      ],
      "metadata": {
        "id": "VdQGIz71IYn4"
      }
    },
    {
      "cell_type": "code",
      "source": [
        "mydict = {'name':'alice','age':30}\n",
        "print(mydict['name'])"
      ],
      "metadata": {
        "id": "nYgE301uHVMy",
        "outputId": "7d75fca6-0ac9-4a8b-fa97-8886e1a51998",
        "colab": {
          "base_uri": "https://localhost:8080/"
        }
      },
      "execution_count": 31,
      "outputs": [
        {
          "output_type": "stream",
          "name": "stdout",
          "text": [
            "alice\n"
          ]
        }
      ]
    },
    {
      "cell_type": "markdown",
      "source": [
        "#24.write a code to remove the key\"age\" from the dictionary {'name':'Bob','age':22','city':'New york'}."
      ],
      "metadata": {
        "id": "D0va-USTJt2x"
      }
    },
    {
      "cell_type": "code",
      "source": [
        "mydict = {'name':'Bob','age':22,'city':'New York'}\n",
        "del mydict['age']\n",
        "print(mydict)"
      ],
      "metadata": {
        "id": "FUF5GcLKJo2M",
        "outputId": "4472fd65-7656-48ba-96d2-98eb7aa805cb",
        "colab": {
          "base_uri": "https://localhost:8080/"
        }
      },
      "execution_count": 33,
      "outputs": [
        {
          "output_type": "stream",
          "name": "stdout",
          "text": [
            "{'name': 'Bob', 'city': 'New York'}\n"
          ]
        }
      ]
    },
    {
      "cell_type": "markdown",
      "source": [
        "#25. write a code to check if the key \"city\" exists in the dictionary {'name':'alice','city':'paris'}"
      ],
      "metadata": {
        "id": "AzubFsVnK7HY"
      }
    },
    {
      "cell_type": "code",
      "source": [
        "mydict = {'name':'alice','city':'paris'}\n",
        "if 'city' in mydict:\n",
        "  print(\"city exists\")\n",
        "else:\n",
        "  print(\"city does not exist\")\n"
      ],
      "metadata": {
        "id": "fo9JYcRGKyUu",
        "outputId": "1936b7af-17d6-4b44-aa1a-389244752396",
        "colab": {
          "base_uri": "https://localhost:8080/"
        }
      },
      "execution_count": 38,
      "outputs": [
        {
          "output_type": "stream",
          "name": "stdout",
          "text": [
            "city exists\n"
          ]
        }
      ]
    },
    {
      "cell_type": "markdown",
      "source": [
        "#26.write a code to create a list, a tuple, and a dictionary, and print them all."
      ],
      "metadata": {
        "id": "9hnzY-FcPEIx"
      }
    },
    {
      "cell_type": "code",
      "source": [
        "mylist = [1,2,3,4,5]\n",
        "mytuple = (1,2,3,4,5)\n",
        "mydict = {'name':'alice','age':30}\n",
        "print(mylist)\n",
        "print(mytuple)\n",
        "print(mydict)"
      ],
      "metadata": {
        "id": "iBYTjKQcL2Ma",
        "outputId": "93c780d4-0ca4-4306-ffb0-32060a27ea2b",
        "colab": {
          "base_uri": "https://localhost:8080/"
        }
      },
      "execution_count": 39,
      "outputs": [
        {
          "output_type": "stream",
          "name": "stdout",
          "text": [
            "[1, 2, 3, 4, 5]\n",
            "(1, 2, 3, 4, 5)\n",
            "{'name': 'alice', 'age': 30}\n"
          ]
        }
      ]
    },
    {
      "cell_type": "markdown",
      "source": [
        "#27.write a code to create a list of 5 random numbers between 1 to 100, sort it in ascending order ,and print the result.(replaced)"
      ],
      "metadata": {
        "id": "nH7uEP3yRM0L"
      }
    },
    {
      "cell_type": "code",
      "source": [
        "import random\n",
        "random_numbers = random.sample(range(1,101),5)\n",
        "print(\"sorted randomnumbers:\",random_numbers)\n",
        "sorted(random_numbers)"
      ],
      "metadata": {
        "id": "Tyh2JJEKShiW",
        "outputId": "8a4e7e2e-2b1f-4a8c-c366-0bc2e143dfba",
        "colab": {
          "base_uri": "https://localhost:8080/"
        }
      },
      "execution_count": 46,
      "outputs": [
        {
          "output_type": "stream",
          "name": "stdout",
          "text": [
            "sorted randomnumbers: [33, 54, 44, 28, 27]\n"
          ]
        },
        {
          "output_type": "execute_result",
          "data": {
            "text/plain": [
              "[27, 28, 33, 44, 54]"
            ]
          },
          "metadata": {},
          "execution_count": 46
        }
      ]
    },
    {
      "cell_type": "markdown",
      "source": [
        "#28.write a code to create a list with strings and print the element at the third index."
      ],
      "metadata": {
        "id": "XHJs8m2OV6z2"
      }
    },
    {
      "cell_type": "code",
      "source": [
        "my_list = [\"apple\", \"banana\", \"cherry\", \"date\", \"elderberry\"]\n",
        "print(my_list[3])"
      ],
      "metadata": {
        "id": "EtFeV939UPfE",
        "outputId": "830bc0db-41c4-46f4-b76d-ced2216a88f5",
        "colab": {
          "base_uri": "https://localhost:8080/"
        }
      },
      "execution_count": 47,
      "outputs": [
        {
          "output_type": "stream",
          "name": "stdout",
          "text": [
            "date\n"
          ]
        }
      ]
    },
    {
      "cell_type": "markdown",
      "source": [
        "#29.write a code to combine two dictionaries into one and print the result."
      ],
      "metadata": {
        "id": "slP7Aj9OW3b_"
      }
    },
    {
      "cell_type": "code",
      "source": [
        "dict =  {'a':1, 'b':2}\n",
        "dict2 = {'c':3, 'd':4}\n",
        "combined = {**dict, **dict2}\n",
        "print(combined)"
      ],
      "metadata": {
        "id": "tzEKkyzhWuAM",
        "outputId": "45eeaec3-eea5-4272-ed9d-fe78540656cf",
        "colab": {
          "base_uri": "https://localhost:8080/"
        }
      },
      "execution_count": 48,
      "outputs": [
        {
          "output_type": "stream",
          "name": "stdout",
          "text": [
            "{'a': 1, 'b': 2, 'c': 3, 'd': 4}\n"
          ]
        }
      ]
    },
    {
      "cell_type": "markdown",
      "source": [
        "#30. write a code to convert a list of string into a set."
      ],
      "metadata": {
        "id": "54qkhhd3YcTH"
      }
    },
    {
      "cell_type": "code",
      "source": [
        "string_list = [\"apple\",\"banana\",\"cherry\",\"apple\",\"banana\"]\n",
        "string_set = set(string_list)\n",
        "print(string_set)"
      ],
      "metadata": {
        "id": "lsDHngAWZUuC",
        "outputId": "4328c316-778d-4f78-901c-8844b2e0c38a",
        "colab": {
          "base_uri": "https://localhost:8080/"
        }
      },
      "execution_count": 2,
      "outputs": [
        {
          "output_type": "stream",
          "name": "stdout",
          "text": [
            "{'banana', 'cherry', 'apple'}\n"
          ]
        }
      ]
    },
    {
      "cell_type": "code",
      "source": [],
      "metadata": {
        "id": "MmMT1ICQbqb6"
      },
      "execution_count": null,
      "outputs": []
    }
  ]
}